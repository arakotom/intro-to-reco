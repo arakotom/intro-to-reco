{
 "cells": [
  {
   "cell_type": "markdown",
   "metadata": {},
   "source": [
    "### Read the data"
   ]
  },
  {
   "cell_type": "code",
   "execution_count": 1,
   "metadata": {},
   "outputs": [],
   "source": [
    "# Item-based collaborative filtering\n",
    "# \n",
    "# References\n",
    "#\n",
    "# [1] M.Deshpande and G. Karypis. Item-based top-n recommendation algorithms. ACM Trans. Inf. Syst., 22(1):143-177, 2004.\n",
    "# [2] B.M. Sarwar, G. Karypis, J.A. Konstan, and J. Reidl. Item-based collaborative filtering recommendation algorithms. In Proceedings of the 10th International World Wide Web Conference, pages 285-295, 2001.\n",
    "# [3] http://www.awesomestats.in/python-recommending-movies/"
   ]
  },
  {
   "cell_type": "code",
   "execution_count": 2,
   "metadata": {},
   "outputs": [],
   "source": [
    "import numpy\n",
    "import pandas as pd\n",
    "\n",
    "# read data\n",
    "rating_df = pd.read_csv('data/ml-100k/u.data', sep='\\t', names=['user', 'item', 'rate', 'time'])\n",
    "numpy.random.seed(42)\n",
    "msk = numpy.random.rand(len(rating_df)) < 0.7\n",
    "rating_df_train = rating_df[msk]\n",
    "rating_df_test = rating_df[~msk]"
   ]
  },
  {
   "cell_type": "markdown",
   "metadata": {},
   "source": [
    "### Build movies similarity matrix"
   ]
  },
  {
   "cell_type": "code",
   "execution_count": 3,
   "metadata": {},
   "outputs": [],
   "source": [
    "from sklearn.metrics import pairwise_distances\n",
    "from scipy.spatial.distance import cosine, correlation\n",
    "\n",
    "# TASK 1: compute movies similarities\n",
    "# HINT: use the pairwise_distance method (and the correlation metric)\n",
    "#\n",
    "def compute_movies_similarities (method='cosine'):\n",
    "    \"\"\" compute the similarity between movies.  output a dataframe.\n",
    "    \"\"\"\n",
    "    rating_mat = rating_df.pivot( index='item', columns='user', values = \"rate\" ).reset_index(drop=True)\n",
    "    if method == 'adjusted_cosine':\n",
    "        rating_mat_avg = rating_mat.mean(axis=1)\n",
    "        rating_mat -= rating_mat_avg\n",
    "    if method == 'pearson':\n",
    "        rating_mat_avg = rating_mat.mean(axis=0)\n",
    "        rating_mat -= rating_mat_avg\n",
    "    rating_mat.fillna( 0, inplace = True )\n",
    "    movie_sim = 1 - pairwise_distances( rating_mat.as_matrix(), metric=\"correlation\" )\n",
    "    # bonus point: disregard similarities when less than N users are in common\n",
    "    return pd.DataFrame( movie_sim )"
   ]
  },
  {
   "cell_type": "code",
   "execution_count": null,
   "metadata": {},
   "outputs": [],
   "source": []
  },
  {
   "cell_type": "code",
   "execution_count": 4,
   "metadata": {},
   "outputs": [],
   "source": [
    "# TASK 2: find top-k similar movies to a given movie\n",
    "# HINT:   use the sort_values method\n",
    "#\n",
    "def get_similar_movies( sim_df, movieid, topN = 5 ):\n",
    "    \"\"\" get top-N similar movies given an input movie (movieid) and a similarity matrix (sim_df)\n",
    "        sim_df is the output of compute_movies_similarities()\n",
    "    \"\"\"\n",
    "    movies_df = pd.read_csv( \"data/ml-100k/u.item\", delimiter = '\\|', header = None, engine='python' )\n",
    "    movies_df = movies_df.iloc[:,:2]\n",
    "    movies_df.columns = ['movieid', 'title']\n",
    "    movies_df['similarity'] = sim_df.iloc[movieid -1]\n",
    "    movies_df.columns = ['movieid', 'title', 'similarity']\n",
    "    top_n = movies_df.sort_values( [\"similarity\"], ascending = False )[0:topN]\n",
    "    return top_n"
   ]
  },
  {
   "cell_type": "code",
   "execution_count": 5,
   "metadata": {},
   "outputs": [
    {
     "name": "stderr",
     "output_type": "stream",
     "text": [
      "/Users/o.koch/anaconda/anaconda3/envs/ds3/lib/python3.6/site-packages/ipykernel_launcher.py:18: FutureWarning: Method .as_matrix will be removed in a future version. Use .values instead.\n"
     ]
    }
   ],
   "source": [
    "movie_sim_df = compute_movies_similarities()"
   ]
  },
  {
   "cell_type": "code",
   "execution_count": 8,
   "metadata": {},
   "outputs": [
    {
     "data": {
      "text/html": [
       "<div>\n",
       "<style scoped>\n",
       "    .dataframe tbody tr th:only-of-type {\n",
       "        vertical-align: middle;\n",
       "    }\n",
       "\n",
       "    .dataframe tbody tr th {\n",
       "        vertical-align: top;\n",
       "    }\n",
       "\n",
       "    .dataframe thead th {\n",
       "        text-align: right;\n",
       "    }\n",
       "</style>\n",
       "<table border=\"1\" class=\"dataframe\">\n",
       "  <thead>\n",
       "    <tr style=\"text-align: right;\">\n",
       "      <th></th>\n",
       "      <th>movieid</th>\n",
       "      <th>title</th>\n",
       "      <th>similarity</th>\n",
       "    </tr>\n",
       "  </thead>\n",
       "  <tbody>\n",
       "    <tr>\n",
       "      <th>12</th>\n",
       "      <td>13</td>\n",
       "      <td>Mighty Aphrodite (1995)</td>\n",
       "      <td>1.000000</td>\n",
       "    </tr>\n",
       "    <tr>\n",
       "      <th>123</th>\n",
       "      <td>124</td>\n",
       "      <td>Lone Star (1996)</td>\n",
       "      <td>0.387178</td>\n",
       "    </tr>\n",
       "    <tr>\n",
       "      <th>951</th>\n",
       "      <td>952</td>\n",
       "      <td>Blue in the Face (1995)</td>\n",
       "      <td>0.363740</td>\n",
       "    </tr>\n",
       "    <tr>\n",
       "      <th>115</th>\n",
       "      <td>116</td>\n",
       "      <td>Cold Comfort Farm (1995)</td>\n",
       "      <td>0.362921</td>\n",
       "    </tr>\n",
       "    <tr>\n",
       "      <th>99</th>\n",
       "      <td>100</td>\n",
       "      <td>Fargo (1996)</td>\n",
       "      <td>0.359254</td>\n",
       "    </tr>\n",
       "    <tr>\n",
       "      <th>136</th>\n",
       "      <td>137</td>\n",
       "      <td>Big Night (1996)</td>\n",
       "      <td>0.354168</td>\n",
       "    </tr>\n",
       "    <tr>\n",
       "      <th>791</th>\n",
       "      <td>792</td>\n",
       "      <td>Bullets Over Broadway (1994)</td>\n",
       "      <td>0.351321</td>\n",
       "    </tr>\n",
       "    <tr>\n",
       "      <th>284</th>\n",
       "      <td>285</td>\n",
       "      <td>Secrets &amp; Lies (1996)</td>\n",
       "      <td>0.337227</td>\n",
       "    </tr>\n",
       "    <tr>\n",
       "      <th>13</th>\n",
       "      <td>14</td>\n",
       "      <td>Postino, Il (1994)</td>\n",
       "      <td>0.336050</td>\n",
       "    </tr>\n",
       "    <tr>\n",
       "      <th>92</th>\n",
       "      <td>93</td>\n",
       "      <td>Welcome to the Dollhouse (1995)</td>\n",
       "      <td>0.332972</td>\n",
       "    </tr>\n",
       "  </tbody>\n",
       "</table>\n",
       "</div>"
      ],
      "text/plain": [
       "     movieid                            title  similarity\n",
       "12        13          Mighty Aphrodite (1995)    1.000000\n",
       "123      124                 Lone Star (1996)    0.387178\n",
       "951      952          Blue in the Face (1995)    0.363740\n",
       "115      116         Cold Comfort Farm (1995)    0.362921\n",
       "99       100                     Fargo (1996)    0.359254\n",
       "136      137                 Big Night (1996)    0.354168\n",
       "791      792     Bullets Over Broadway (1994)    0.351321\n",
       "284      285            Secrets & Lies (1996)    0.337227\n",
       "13        14               Postino, Il (1994)    0.336050\n",
       "92        93  Welcome to the Dollhouse (1995)    0.332972"
      ]
     },
     "execution_count": 8,
     "metadata": {},
     "output_type": "execute_result"
    }
   ],
   "source": [
    "get_similar_movies (movie_sim_df, 13, 10)"
   ]
  },
  {
   "cell_type": "markdown",
   "metadata": {},
   "source": [
    "### Predicting ratings"
   ]
  },
  {
   "cell_type": "code",
   "execution_count": 9,
   "metadata": {},
   "outputs": [],
   "source": [
    "def pivot_data (df):\n",
    "    \"\"\" pivot a rating dataset to index data by item x user\n",
    "    \"\"\"\n",
    "    return df.pivot( index='item', columns='user', values = \"rate\" ).reset_index(drop=True)"
   ]
  },
  {
   "cell_type": "code",
   "execution_count": 10,
   "metadata": {},
   "outputs": [],
   "source": [
    "def get_rating (df_pivoted, user, item):\n",
    "    \"\"\" fetch a user x item rating.  return NaN if it does not exist\n",
    "        df_pivoted is the output of pivot_data()\n",
    "     \"\"\"\n",
    "    try:\n",
    "        df_pivoted.iloc [item-1][user]\n",
    "    except:\n",
    "        return numpy.nan\n",
    "    return df_pivoted.iloc [item-1][user]"
   ]
  },
  {
   "cell_type": "code",
   "execution_count": 11,
   "metadata": {},
   "outputs": [],
   "source": [
    "def rmse(predictions, targets):\n",
    "    \"\"\" compute the RMSE between predictions and targets \n",
    "    \"\"\"\n",
    "    return numpy.sqrt(((numpy.asarray(predictions) - numpy.asarray(targets)) ** 2).mean())"
   ]
  },
  {
   "cell_type": "code",
   "execution_count": 16,
   "metadata": {},
   "outputs": [],
   "source": [
    "# TASK 3: predict rating for user x item\n",
    "# HINT:   iterate over similar movies, get their rating and compute the predicted rating\n",
    "#         use the following methods: get_similar_movies, get_rating\n",
    "#\n",
    "def predict_rating (rating_df_pivoted, movie_sim_df, user_id, item_id):\n",
    "    \"\"\" predict rating for a user (user_id) and a movie (item_id) given:\n",
    "        - movie_sim_df: movie similarities, as output by compute_movies_similarities()\n",
    "        - rating_df_pivoted: a pivoted version of the rating data, as output by pivot_data()\n",
    "    \"\"\"\n",
    "    similar_movies = get_similar_movies (movie_sim_df, item_id, 30)\n",
    "    sim_ratings = []\n",
    "    sim_scores = []\n",
    "    for row2 in similar_movies[1:].itertuples(): # use 1: to skip obvious similar movie (itself)\n",
    "        _, item_id_2, _, similarity = row2\n",
    "        sim_rating = get_rating (rating_df_pivoted, user_id, item_id_2) # random.randint(1,5)\n",
    "        if not numpy.isnan (sim_rating):\n",
    "            sim_ratings.append (sim_rating)\n",
    "            sim_scores.append (similarity)\n",
    "    if len(sim_ratings) > 0:\n",
    "            return numpy.dot(sim_ratings, sim_scores) / numpy.sum (sim_scores)\n",
    "    return numpy.nan"
   ]
  },
  {
   "cell_type": "code",
   "execution_count": 17,
   "metadata": {},
   "outputs": [],
   "source": [
    "# TASK 4: evaluate the rating prediction on the testing set\n",
    "# HINT:   use the predict_rating and rmse methods\n",
    "#\n",
    "def evaluate (rating_df_pivoted, movie_sim_df, num_ratings):\n",
    "    \"\"\" predict ratings for the testing set and compute RMSE\n",
    "    \"\"\"\n",
    "    predicted_ratings = []\n",
    "    true_ratings = []\n",
    "    for row in rating_df_test[:num_ratings].itertuples():\n",
    "        _, user_id, item_id, rating, _ = row\n",
    "        predicted_rating = predict_rating (rating_df_pivoted, movie_sim_df, user_id, item_id)\n",
    "        if not numpy.isnan (predicted_rating):\n",
    "            predicted_ratings.append (predicted_rating)\n",
    "            true_ratings.append (rating)\n",
    "\n",
    "    rmse_val = rmse (predicted_ratings, true_ratings)\n",
    "    return (rmse_val, len(predicted_ratings))\n"
   ]
  },
  {
   "cell_type": "code",
   "execution_count": null,
   "metadata": {},
   "outputs": [],
   "source": []
  },
  {
   "cell_type": "code",
   "execution_count": 18,
   "metadata": {},
   "outputs": [
    {
     "name": "stderr",
     "output_type": "stream",
     "text": [
      "/Users/o.koch/anaconda/anaconda3/envs/ds3/lib/python3.6/site-packages/ipykernel_launcher.py:18: FutureWarning: Method .as_matrix will be removed in a future version. Use .values instead.\n"
     ]
    },
    {
     "name": "stdout",
     "output_type": "stream",
     "text": [
      "0.8837836471494814 98\n",
      "1.0032440815217765 94\n",
      "0.8952102395253785 91\n"
     ]
    }
   ],
   "source": [
    "rating_df_train_pivoted = pivot_data (rating_df_train)\n",
    "rating_df_pivoted = pivot_data(rating_df)\n",
    "\n",
    "movie_sim_df_cosine = compute_movies_similarities()\n",
    "movie_sim_df_pearson = compute_movies_similarities('pearson')\n",
    "movie_sim_df_adjusted_cosine = compute_movies_similarities('adjusted_cosine')\n",
    "\n",
    "num_ratings = 100\n",
    "(rmse_val, num_ratings) = evaluate (rating_df_train_pivoted, movie_sim_df_cosine, num_ratings)\n",
    "print (rmse_val, num_ratings)\n",
    "(rmse_val, num_ratings) = evaluate (rating_df_train_pivoted, movie_sim_df_pearson, num_ratings)\n",
    "print (rmse_val, num_ratings)\n",
    "(rmse_val, num_ratings) = evaluate (rating_df_train_pivoted, movie_sim_df_adjusted_cosine, num_ratings)\n",
    "print (rmse_val, num_ratings)\n"
   ]
  },
  {
   "cell_type": "code",
   "execution_count": null,
   "metadata": {},
   "outputs": [],
   "source": []
  }
 ],
 "metadata": {
  "kernelspec": {
   "display_name": "Python 3",
   "language": "python",
   "name": "python3"
  },
  "language_info": {
   "codemirror_mode": {
    "name": "ipython",
    "version": 3
   },
   "file_extension": ".py",
   "mimetype": "text/x-python",
   "name": "python",
   "nbconvert_exporter": "python",
   "pygments_lexer": "ipython3",
   "version": "3.6.5"
  }
 },
 "nbformat": 4,
 "nbformat_minor": 2
}
